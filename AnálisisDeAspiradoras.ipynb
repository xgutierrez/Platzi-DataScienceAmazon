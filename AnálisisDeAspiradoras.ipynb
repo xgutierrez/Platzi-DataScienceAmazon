{
 "cells": [
  {
   "cell_type": "markdown",
   "metadata": {},
   "source": [
    "# Análisis de Aspiradoras\n",
    "\n",
    "El Objetivo de esta Note es los siguientes:\n",
    "\n",
    "1. Obtener información de la página de Amazon sobre aspiradoras\n",
    "2. Guardar las información de las 200 primeras aspiradoras en un dataframe\n",
    "3. Pasar el DataFrame y aplicarle técnicas de aprendizaje No Supervisado para clasificar las aspiradoras"
   ]
  },
  {
   "cell_type": "markdown",
   "metadata": {},
   "source": [
    "## Obtener Información de Aspiradoras de Amazon\n",
    "\n",
    "### Web Scraping\n",
    "\n",
    "#### BeautifulSoup\n",
    "\n",
    "Es el primer método que vamos a utilizar para poder extraer datos de la Web"
   ]
  },
  {
   "cell_type": "code",
   "execution_count": 140,
   "metadata": {},
   "outputs": [
    {
     "data": {
      "text/plain": [
       "503"
      ]
     },
     "execution_count": 140,
     "metadata": {},
     "output_type": "execute_result"
    }
   ],
   "source": [
    "#Líbrerias\n",
    "import requests\n",
    "\n",
    "#url = 'https://www.amazon.com/'\n",
    "url = 'https://www.amazon.es/s?k=aspiradoras&__mk_es_ES=%C3%85M%C3%85%C5%BD%C3%95%C3%91&ref=nb_sb_noss_2'\n",
    "\n",
    "aspiradoraWeb = requests.get(url)\n",
    "aspiradoraWeb.status_code"
   ]
  },
  {
   "cell_type": "markdown",
   "metadata": {},
   "source": [
    "* El primer método de Scraping iba hacer con BeautifulSoup, sin embargo, tengo un inconveniente debido a que el status code me da 503, eso significa que no esta accesible el servidor, esto puede deberse a que hay páginas que no permiten realizar el WebScrapper por la líbreria requests\n",
    "\n",
    "* Para resolver este caso vamos a utilizar Selenium"
   ]
  },
  {
   "cell_type": "markdown",
   "metadata": {},
   "source": [
    "#### Selenium\n",
    "\n",
    "##### 1. Configuracion y parametrización de Selenium"
   ]
  },
  {
   "cell_type": "code",
   "execution_count": 142,
   "metadata": {},
   "outputs": [],
   "source": [
    "#Importamos Selenium\n",
    "from selenium import webdriver\n",
    "\n",
    "#Parametrizamos el driver\n",
    "options = webdriver.ChromeOptions()\n",
    "#Para navegar en modo incognito\n",
    "options.add_argument('--incognito')\n",
    "\n",
    "#Abrimos el driver\n",
    "driver = webdriver.Chrome(executable_path='c:/chromedriver.exe',options=options)\n",
    "\n",
    "#Nos vamos a la URL\n",
    "driver.get(url)"
   ]
  },
  {
   "cell_type": "markdown",
   "metadata": {},
   "source": [
    "##### 2. Obtener los links de cada una de las aspiradoras que se encuentran en una página y lo almaceno en una lista"
   ]
  },
  {
   "cell_type": "code",
   "execution_count": 143,
   "metadata": {},
   "outputs": [
    {
     "data": {
      "text/plain": [
       "22"
      ]
     },
     "execution_count": 143,
     "metadata": {},
     "output_type": "execute_result"
    }
   ],
   "source": [
    "# Vamos a obtener los links y los nombres de las aspiradoras\n",
    "aspiradoras = driver.find_elements_by_xpath('//a[@class=\"a-link-normal a-text-normal\"]')\n",
    "\n",
    "#Número de aspiradoras \n",
    "len(aspiradoras)"
   ]
  },
  {
   "cell_type": "code",
   "execution_count": 144,
   "metadata": {
    "scrolled": true
   },
   "outputs": [
    {
     "data": {
      "text/plain": [
       "['https://www.amazon.es/gp/slredirect/picassoRedirect.html/ref=pa_sp_atf_aps_sr_pg1_1?ie=UTF8&adId=A01147902Q6W59R82Z299&url=%2FAmazonBasics-Aspiradora-cil%25C3%25ADndrica-bolsa-energ%25C3%25A9tica%2Fdp%2FB07C3NFCYC%2Fref%3Dsr_1_1_sspa%3F__mk_es_ES%3D%25C3%2585M%25C3%2585%25C5%25BD%25C3%2595%25C3%2591%26keywords%3Daspiradoras%26qid%3D1583447383%26sr%3D8-1-spons%26psc%3D1&qualifier=1583447383&id=873035640061113&widgetName=sp_atf',\n",
       " 'https://www.amazon.es/gp/slredirect/picassoRedirect.html/ref=pa_sp_atf_aps_sr_pg1_2?ie=UTF8&adId=A067223035FI8SQQRCGZA&url=%2FCecotec-EcoExtreme-Aspirador-Cicl%25C3%25B3nico-Capacidad%2Fdp%2FB07587LM6H%2Fref%3Dsr_1_2_sspa%3F__mk_es_ES%3D%25C3%2585M%25C3%2585%25C5%25BD%25C3%2595%25C3%2591%26keywords%3Daspiradoras%26qid%3D1583447383%26sr%3D8-2-spons%26psc%3D1&qualifier=1583447383&id=873035640061113&widgetName=sp_atf',\n",
       " 'https://www.amazon.es/Rowenta-Compact-Power-Cyclonic-Aspirador/dp/B01CIALC5G/ref=sr_1_3?__mk_es_ES=%C3%85M%C3%85%C5%BD%C3%95%C3%91&keywords=aspiradoras&qid=1583447383&sr=8-3',\n",
       " 'https://www.amazon.es/K%C3%A4rcher-WD3-Aspirador-multiuso-aspiraci%C3%B3n/dp/B00JBNZPFM/ref=sr_1_4?__mk_es_ES=%C3%85M%C3%85%C5%BD%C3%95%C3%91&keywords=aspiradoras&qid=1583447383&sr=8-4',\n",
       " 'https://www.amazon.es/Aspiradora-MEIYOU-Aspirador-Succi%C3%B3n-Lavable/dp/B07Z6DQYWC/ref=sr_1_5?__mk_es_ES=%C3%85M%C3%85%C5%BD%C3%95%C3%91&keywords=aspiradoras&qid=1583447383&sr=8-5',\n",
       " 'https://www.amazon.es/Holife-Aspiradora-Aspirador-eficiencia-energ%C3%A9tica/dp/B083BP3BR2/ref=sr_1_6?__mk_es_ES=%C3%85M%C3%85%C5%BD%C3%95%C3%91&keywords=aspiradoras&qid=1583447383&sr=8-6',\n",
       " 'https://www.amazon.es/Deenkee-Aspirador-Aspiradora-extra%C3%ADble-Ion-Litio/dp/B07YWYMQFR/ref=sr_1_7?__mk_es_ES=%C3%85M%C3%85%C5%BD%C3%95%C3%91&keywords=aspiradoras&qid=1583447383&sr=8-7',\n",
       " 'https://www.amazon.es/Cecotec-EcoExtreme-Aspirador-Cicl%C3%B3nico-Capacidad/dp/B07587LM6H/ref=sr_1_8?__mk_es_ES=%C3%85M%C3%85%C5%BD%C3%95%C3%91&keywords=aspiradoras&qid=1583447383&sr=8-8',\n",
       " 'https://www.amazon.es/Aspiradoras-Hikeren-Aspiradora-Vertical-Velocidades/dp/B07T58RMWK/ref=sr_1_9?__mk_es_ES=%C3%85M%C3%85%C5%BD%C3%95%C3%91&keywords=aspiradoras&qid=1583447383&sr=8-9',\n",
       " 'https://www.amazon.es/Bosch-Flexxo-BBH32551-Serie-recargable/dp/B07GQSS8RH/ref=sr_1_10?__mk_es_ES=%C3%85M%C3%85%C5%BD%C3%95%C3%91&keywords=aspiradoras&qid=1583447383&sr=8-10',\n",
       " 'https://www.amazon.es/gp/slredirect/picassoRedirect.html/ref=pa_sp_mtf_aps_sr_pg1_1?ie=UTF8&adId=A01055213TMFGYGVSWYS8&url=%2FINSE-Aspirador-Autonom%25C3%25ADa-Filtraci%25C3%25B3n-Motorizado%2Fdp%2FB07XYVYBB8%2Fref%3Dsr_1_11_sspa%3F__mk_es_ES%3D%25C3%2585M%25C3%2585%25C5%25BD%25C3%2595%25C3%2591%26keywords%3Daspiradoras%26qid%3D1583447383%26sr%3D8-11-spons%26psc%3D1&qualifier=1583447383&id=873035640061113&widgetName=sp_mtf',\n",
       " 'https://www.amazon.es/gp/slredirect/picassoRedirect.html/ref=pa_sp_mtf_aps_sr_pg1_2?ie=UTF8&adId=A09063451R4FM9DMFO97I&url=%2FINSE-Aspiradora-Aspirador-Aspiradoras-Capacidad%2Fdp%2FB07XXWFW97%2Fref%3Dsr_1_12_sspa%3F__mk_es_ES%3D%25C3%2585M%25C3%2585%25C5%25BD%25C3%2595%25C3%2591%26keywords%3Daspiradoras%26qid%3D1583447383%26sr%3D8-12-spons%26psc%3D1&qualifier=1583447383&id=873035640061113&widgetName=sp_mtf',\n",
       " 'https://www.amazon.es/INSE-Aspiradora-Aspirador-Aspiradoras-Capacidad/dp/B07XXWFW97/ref=sr_1_13?__mk_es_ES=%C3%85M%C3%85%C5%BD%C3%95%C3%91&keywords=aspiradoras&qid=1583447383&sr=8-13',\n",
       " 'https://www.amazon.es/AEG-LX7-Power-Animal-Aspiradora/dp/B0748MDVV8/ref=sr_1_14?__mk_es_ES=%C3%85M%C3%85%C5%BD%C3%95%C3%91&keywords=aspiradoras&qid=1583447383&sr=8-14',\n",
       " 'https://www.amazon.es/Aspiradora-HIKEREN-Aspirador-Inoxidable-Boquillas/dp/B07VVPFPX5/ref=sr_1_15?__mk_es_ES=%C3%85M%C3%85%C5%BD%C3%95%C3%91&keywords=aspiradoras&qid=1583447383&sr=8-15',\n",
       " 'https://www.amazon.es/Einhell-TH-VC-1820-seco-h%C3%BAmedo-aspiraci%C3%B3n/dp/B00BLZVJ0I/ref=sr_1_16?__mk_es_ES=%C3%85M%C3%85%C5%BD%C3%95%C3%91&keywords=aspiradoras&qid=1583447383&sr=8-16',\n",
       " 'https://www.amazon.es/YISSVIC-Aspiradora-Aspirador-Inal%C3%A1mbrica-Recargable/dp/B082WRZXSX/ref=sr_1_17?__mk_es_ES=%C3%85M%C3%85%C5%BD%C3%95%C3%91&keywords=aspiradoras&qid=1583447383&sr=8-17',\n",
       " 'https://www.amazon.es/Bosch-BBH625W60-Athlet-tecnolog%C3%ADa-SensorBagless/dp/B015PL3S8Y/ref=sr_1_18?__mk_es_ES=%C3%85M%C3%85%C5%BD%C3%95%C3%91&keywords=aspiradoras&qid=1583447383&sr=8-18',\n",
       " 'https://www.amazon.es/Einhell-TC-VC-1812-seco-h%C3%BAmedo-aspiraci%C3%B3n/dp/B014HFNONS/ref=sr_1_19?__mk_es_ES=%C3%85M%C3%85%C5%BD%C3%95%C3%91&keywords=aspiradoras&qid=1583447383&sr=8-19',\n",
       " 'https://www.amazon.es/Philips-Fc9332-09-Aspirador-antial%C3%A9rgicas/dp/B01MTF06KN/ref=sr_1_20?__mk_es_ES=%C3%85M%C3%85%C5%BD%C3%95%C3%91&keywords=aspiradoras&qid=1583447383&sr=8-20',\n",
       " 'https://www.amazon.es/gp/slredirect/picassoRedirect.html/ref=pa_sp_btf_aps_sr_pg1_1?ie=UTF8&adId=A101161529IBN6DUFQIM2&url=%2FINSE-Aspirador-Habitaciones%25EF%25BC%258CControl-WiFi%25EF%25BC%258CSistema-Autom%25C3%25A1tica%2Fdp%2FB07XYWVCSQ%2Fref%3Dsr_1_21_sspa%3F__mk_es_ES%3D%25C3%2585M%25C3%2585%25C5%25BD%25C3%2595%25C3%2591%26keywords%3Daspiradoras%26qid%3D1583447383%26sr%3D8-21-spons%26psc%3D1&qualifier=1583447383&id=873035640061113&widgetName=sp_btf',\n",
       " 'https://www.amazon.es/gp/slredirect/picassoRedirect.html/ref=pa_sp_btf_aps_sr_pg1_2?ie=UTF8&adId=A0238218ZGZEUL8JJ9OZ&url=%2FNovohogar-Aspirador-Vertical-Microperforado-Silencioso%2Fdp%2FB07KCCPTKF%2Fref%3Dsr_1_22_sspa%3F__mk_es_ES%3D%25C3%2585M%25C3%2585%25C5%25BD%25C3%2595%25C3%2591%26keywords%3Daspiradoras%26qid%3D1583447383%26sr%3D8-22-spons%26psc%3D1&qualifier=1583447383&id=873035640061113&widgetName=sp_btf']"
      ]
     },
     "execution_count": 144,
     "metadata": {},
     "output_type": "execute_result"
    }
   ],
   "source": [
    "#vamos a obtener los links de cada aspiradora\n",
    "linksAspiradoras = []\n",
    "aspiradora = aspiradoras[0]\n",
    "\n",
    "linkAspiradora = aspiradora.get_attribute('href')\n",
    "linkAspiradora\n",
    "\n",
    "#Obtengo los links de las aspiradoras\n",
    "for aspiradora in aspiradoras:\n",
    "    linksAspiradoras.append(aspiradora.get_attribute('href'))\n",
    "    \n",
    "linksAspiradoras"
   ]
  },
  {
   "cell_type": "code",
   "execution_count": 145,
   "metadata": {},
   "outputs": [],
   "source": [
    "# Se cierra el driver\n",
    "driver.close()"
   ]
  },
  {
   "cell_type": "markdown",
   "metadata": {},
   "source": [
    "##### 3. Vamos a obtener la información de cada aspiradora:\n",
    "\n",
    "    * Nombre\n",
    "    * Precio\n",
    "    * Número de Opiniones\n",
    "    * Tabla de detalles técnicos"
   ]
  },
  {
   "cell_type": "code",
   "execution_count": 146,
   "metadata": {},
   "outputs": [],
   "source": [
    "# Vamos a obtener los datos de cada aspiradora\n",
    "driver = webdriver.Chrome(executable_path='c:/chromedriver.exe',options=options)\n",
    "# Obtengo el primer link del links de aspiradoras\n",
    "driver.get(linksAspiradoras[0])"
   ]
  },
  {
   "cell_type": "code",
   "execution_count": 147,
   "metadata": {},
   "outputs": [
    {
     "name": "stdout",
     "output_type": "stream",
     "text": [
      "Holife Aspiradora Escoba de 15Kpa, Aspirador Vertical 2 en 1, 800ml, con 2 Filtros HEPA Lavables y 3 Cepillos, Vertical y Portátil Ajustable [Clase de eficiencia energética A+] (Blanco1)\n",
      "37 valoraciones\n",
      "41,98 €\n"
     ]
    }
   ],
   "source": [
    "#Se obtiene el nombre de la aspiradora\n",
    "nombreAspiradora = driver.find_element_by_xpath('//*[@id=\"productTitle\"]').text\n",
    "#Se obtiene el número de opiniones\n",
    "numeroOpinion = driver.find_element_by_xpath('//*[@id=\"acrCustomerReviewText\"]').text\n",
    "#Se obtiene el precio\n",
    "precio = driver.find_element_by_xpath('//*[@id=\"priceblock_ourprice\"]').text\n",
    "\n",
    "print(nombreAspiradora)\n",
    "print(numeroOpinion)\n",
    "print(precio)"
   ]
  },
  {
   "cell_type": "code",
   "execution_count": 148,
   "metadata": {},
   "outputs": [
    {
     "data": {
      "text/plain": [
       "[<selenium.webdriver.remote.webelement.WebElement (session=\"eb70002b8fe8a2125609793597fbde2b\", element=\"10cf63cb-30e6-4e25-bfe0-d4be53cb6345\")>,\n",
       " <selenium.webdriver.remote.webelement.WebElement (session=\"eb70002b8fe8a2125609793597fbde2b\", element=\"39541a98-b1bb-4c93-80e0-c7f856b06634\")>,\n",
       " <selenium.webdriver.remote.webelement.WebElement (session=\"eb70002b8fe8a2125609793597fbde2b\", element=\"d3115e33-611c-41fd-8a9c-2414e261df43\")>,\n",
       " <selenium.webdriver.remote.webelement.WebElement (session=\"eb70002b8fe8a2125609793597fbde2b\", element=\"2a693ad1-3b9b-4ff1-bcd6-dbc0877faf9c\")>,\n",
       " <selenium.webdriver.remote.webelement.WebElement (session=\"eb70002b8fe8a2125609793597fbde2b\", element=\"5ac00d4e-0139-45ea-8e46-601ec6d6d0d4\")>,\n",
       " <selenium.webdriver.remote.webelement.WebElement (session=\"eb70002b8fe8a2125609793597fbde2b\", element=\"f6684a3d-98a9-4f3e-bc2d-4e8097305fb0\")>,\n",
       " <selenium.webdriver.remote.webelement.WebElement (session=\"eb70002b8fe8a2125609793597fbde2b\", element=\"abc03fa2-82c9-41b6-88c2-658e04bb9e7d\")>,\n",
       " <selenium.webdriver.remote.webelement.WebElement (session=\"eb70002b8fe8a2125609793597fbde2b\", element=\"b472ad97-6b08-45e7-ac45-5b932bd4e0de\")>,\n",
       " <selenium.webdriver.remote.webelement.WebElement (session=\"eb70002b8fe8a2125609793597fbde2b\", element=\"506fb965-f0c6-4337-9a3a-e8c2f8ec3d0d\")>]"
      ]
     },
     "execution_count": 148,
     "metadata": {},
     "output_type": "execute_result"
    }
   ],
   "source": [
    "#Obteniendo la tabla de caracteristicas técnicas\n",
    "detallesTecnicos = driver.find_elements_by_xpath('//*[@id=\"prodDetails\"]/div[2]/div[1]/div[1]/div[2]/div/div/table/tbody/tr')\n",
    "detallesTecnicos\n"
   ]
  },
  {
   "cell_type": "code",
   "execution_count": 149,
   "metadata": {},
   "outputs": [
    {
     "data": {
      "text/plain": [
       "{'Marca': ['Holife'],\n",
       " 'Color': ['Blanco1'],\n",
       " 'Peso del producto': ['2,16 Kg'],\n",
       " 'Dimensiones del producto': ['14 x 15,5 x 64 cm'],\n",
       " 'Capacidad': ['0.8 litros'],\n",
       " 'Volumen': ['0.8 litros'],\n",
       " 'Potencia': ['600 vatios'],\n",
       " 'Ruido': ['84 dB']}"
      ]
     },
     "execution_count": 149,
     "metadata": {},
     "output_type": "execute_result"
    }
   ],
   "source": [
    "# Obtengo el primer detalle técnico de la table en este caso la etiqueta\n",
    "detallesTecnicos[0].find_element_by_xpath('.//td[@class=\"label\"]').text\n",
    "# Obtengo el primer detalle técnico de la table en este caso el valor\n",
    "detallesTecnicos[0].find_element_by_xpath('.//td[@class=\"value\"]').text\n",
    "\n",
    "tablaDetalleTecnico = {}\n",
    "\n",
    "for detalle in detallesTecnicos:\n",
    "    try:\n",
    "        etiqueta = detalle.find_element_by_xpath('.//td[@class=\"label\"]').text\n",
    "        valor = detalle.find_element_by_xpath('.//td[@class=\"value\"]').text\n",
    "    \n",
    "        # El valor le paso como una lista para que sea mas fácil la conversion a Dataframe\n",
    "        tablaDetalleTecnico.update({etiqueta:[valor]})\n",
    "    except:\n",
    "        etiqueta = ''\n",
    "        valor = ''    \n",
    "        \n",
    "    \n",
    "tablaDetalleTecnico"
   ]
  },
  {
   "cell_type": "markdown",
   "metadata": {},
   "source": [
    "##### 4. Pasar a un Dataframe los datos"
   ]
  },
  {
   "cell_type": "code",
   "execution_count": 150,
   "metadata": {},
   "outputs": [
    {
     "data": {
      "text/html": [
       "<div>\n",
       "<style scoped>\n",
       "    .dataframe tbody tr th:only-of-type {\n",
       "        vertical-align: middle;\n",
       "    }\n",
       "\n",
       "    .dataframe tbody tr th {\n",
       "        vertical-align: top;\n",
       "    }\n",
       "\n",
       "    .dataframe thead th {\n",
       "        text-align: right;\n",
       "    }\n",
       "</style>\n",
       "<table border=\"1\" class=\"dataframe\">\n",
       "  <thead>\n",
       "    <tr style=\"text-align: right;\">\n",
       "      <th></th>\n",
       "      <th>Marca</th>\n",
       "      <th>Color</th>\n",
       "      <th>Peso del producto</th>\n",
       "      <th>Dimensiones del producto</th>\n",
       "      <th>Capacidad</th>\n",
       "      <th>Volumen</th>\n",
       "      <th>Potencia</th>\n",
       "      <th>Ruido</th>\n",
       "    </tr>\n",
       "  </thead>\n",
       "  <tbody>\n",
       "    <tr>\n",
       "      <th>0</th>\n",
       "      <td>Holife</td>\n",
       "      <td>Blanco1</td>\n",
       "      <td>2,16 Kg</td>\n",
       "      <td>14 x 15,5 x 64 cm</td>\n",
       "      <td>0.8 litros</td>\n",
       "      <td>0.8 litros</td>\n",
       "      <td>600 vatios</td>\n",
       "      <td>84 dB</td>\n",
       "    </tr>\n",
       "  </tbody>\n",
       "</table>\n",
       "</div>"
      ],
      "text/plain": [
       "    Marca    Color Peso del producto Dimensiones del producto   Capacidad  \\\n",
       "0  Holife  Blanco1           2,16 Kg        14 x 15,5 x 64 cm  0.8 litros   \n",
       "\n",
       "      Volumen    Potencia  Ruido  \n",
       "0  0.8 litros  600 vatios  84 dB  "
      ]
     },
     "execution_count": 150,
     "metadata": {},
     "output_type": "execute_result"
    }
   ],
   "source": [
    "#Mandando a un dataframe los detalles tecnicos\n",
    "\n",
    "import pandas as pd\n",
    "\n",
    "tablaDetalleTecnico\n",
    "\n",
    "DatoAspiradora = pd.DataFrame(tablaDetalleTecnico)\n",
    "DatoAspiradora"
   ]
  },
  {
   "cell_type": "code",
   "execution_count": 151,
   "metadata": {},
   "outputs": [
    {
     "name": "stdout",
     "output_type": "stream",
     "text": [
      "Holife Aspiradora Escoba de 15Kpa, Aspirador Vertical 2 en 1, 800ml, con 2 Filtros HEPA Lavables y 3 Cepillos, Vertical y Portátil Ajustable [Clase de eficiencia energética A+] (Blanco1)\n",
      "37 valoraciones\n",
      "41,98 €\n"
     ]
    }
   ],
   "source": [
    "print(nombreAspiradora)\n",
    "print(numeroOpinion)\n",
    "print(precio)"
   ]
  },
  {
   "cell_type": "code",
   "execution_count": 152,
   "metadata": {},
   "outputs": [
    {
     "data": {
      "text/html": [
       "<div>\n",
       "<style scoped>\n",
       "    .dataframe tbody tr th:only-of-type {\n",
       "        vertical-align: middle;\n",
       "    }\n",
       "\n",
       "    .dataframe tbody tr th {\n",
       "        vertical-align: top;\n",
       "    }\n",
       "\n",
       "    .dataframe thead th {\n",
       "        text-align: right;\n",
       "    }\n",
       "</style>\n",
       "<table border=\"1\" class=\"dataframe\">\n",
       "  <thead>\n",
       "    <tr style=\"text-align: right;\">\n",
       "      <th></th>\n",
       "      <th>Marca</th>\n",
       "      <th>Color</th>\n",
       "      <th>Peso del producto</th>\n",
       "      <th>Dimensiones del producto</th>\n",
       "      <th>Capacidad</th>\n",
       "      <th>Volumen</th>\n",
       "      <th>Potencia</th>\n",
       "      <th>Ruido</th>\n",
       "      <th>Nombre Aspiradora</th>\n",
       "      <th>Opiniones</th>\n",
       "      <th>Precio</th>\n",
       "    </tr>\n",
       "  </thead>\n",
       "  <tbody>\n",
       "    <tr>\n",
       "      <th>0</th>\n",
       "      <td>Holife</td>\n",
       "      <td>Blanco1</td>\n",
       "      <td>2,16 Kg</td>\n",
       "      <td>14 x 15,5 x 64 cm</td>\n",
       "      <td>0.8 litros</td>\n",
       "      <td>0.8 litros</td>\n",
       "      <td>600 vatios</td>\n",
       "      <td>84 dB</td>\n",
       "      <td>Holife Aspiradora Escoba de 15Kpa, Aspirador V...</td>\n",
       "      <td>37 valoraciones</td>\n",
       "      <td>41,98 €</td>\n",
       "    </tr>\n",
       "  </tbody>\n",
       "</table>\n",
       "</div>"
      ],
      "text/plain": [
       "    Marca    Color Peso del producto Dimensiones del producto   Capacidad  \\\n",
       "0  Holife  Blanco1           2,16 Kg        14 x 15,5 x 64 cm  0.8 litros   \n",
       "\n",
       "      Volumen    Potencia  Ruido  \\\n",
       "0  0.8 litros  600 vatios  84 dB   \n",
       "\n",
       "                                   Nombre Aspiradora        Opiniones   Precio  \n",
       "0  Holife Aspiradora Escoba de 15Kpa, Aspirador V...  37 valoraciones  41,98 €  "
      ]
     },
     "execution_count": 152,
     "metadata": {},
     "output_type": "execute_result"
    }
   ],
   "source": [
    "# Vamos añadir las columnas de:\n",
    "# Nombre de la aspiradora; las valoraciones; y el precio en el DataFrame\n",
    "DatoAspiradora['Nombre Aspiradora'] = nombreAspiradora\n",
    "DatoAspiradora['Opiniones'] = numeroOpinion\n",
    "DatoAspiradora['Precio'] = precio\n",
    "\n",
    "DatoAspiradora"
   ]
  },
  {
   "cell_type": "markdown",
   "metadata": {},
   "source": [
    "##### 5. Obtenemos solo los datos que necesito para el Análisis\n",
    "\n",
    "    * Nombre de la aspiradora\n",
    "    * Precio\n",
    "    * Número de Opiniones\n",
    "    * Peso del producto\n",
    "    * Potencia\n",
    "    * Dimensiones del producto\n",
    "    * Volúmen"
   ]
  },
  {
   "cell_type": "code",
   "execution_count": 153,
   "metadata": {},
   "outputs": [
    {
     "data": {
      "text/plain": [
       "Index(['Marca', 'Color', 'Peso del producto', 'Dimensiones del producto',\n",
       "       'Capacidad', 'Volumen', 'Potencia', 'Ruido', 'Nombre Aspiradora',\n",
       "       'Opiniones', 'Precio'],\n",
       "      dtype='object')"
      ]
     },
     "execution_count": 153,
     "metadata": {},
     "output_type": "execute_result"
    }
   ],
   "source": [
    "#Veo las columnas que tiene el Dataframe\n",
    "DatoAspiradora.columns"
   ]
  },
  {
   "cell_type": "code",
   "execution_count": 154,
   "metadata": {},
   "outputs": [
    {
     "data": {
      "text/html": [
       "<div>\n",
       "<style scoped>\n",
       "    .dataframe tbody tr th:only-of-type {\n",
       "        vertical-align: middle;\n",
       "    }\n",
       "\n",
       "    .dataframe tbody tr th {\n",
       "        vertical-align: top;\n",
       "    }\n",
       "\n",
       "    .dataframe thead th {\n",
       "        text-align: right;\n",
       "    }\n",
       "</style>\n",
       "<table border=\"1\" class=\"dataframe\">\n",
       "  <thead>\n",
       "    <tr style=\"text-align: right;\">\n",
       "      <th></th>\n",
       "      <th>Nombre Aspiradora</th>\n",
       "      <th>Precio</th>\n",
       "      <th>Opiniones</th>\n",
       "      <th>Peso del producto</th>\n",
       "      <th>Potencia</th>\n",
       "      <th>Dimensiones del producto</th>\n",
       "      <th>Volumen</th>\n",
       "    </tr>\n",
       "  </thead>\n",
       "  <tbody>\n",
       "    <tr>\n",
       "      <th>0</th>\n",
       "      <td>Holife Aspiradora Escoba de 15Kpa, Aspirador V...</td>\n",
       "      <td>41,98 €</td>\n",
       "      <td>37 valoraciones</td>\n",
       "      <td>2,16 Kg</td>\n",
       "      <td>600 vatios</td>\n",
       "      <td>14 x 15,5 x 64 cm</td>\n",
       "      <td>0.8 litros</td>\n",
       "    </tr>\n",
       "  </tbody>\n",
       "</table>\n",
       "</div>"
      ],
      "text/plain": [
       "                                   Nombre Aspiradora   Precio  \\\n",
       "0  Holife Aspiradora Escoba de 15Kpa, Aspirador V...  41,98 €   \n",
       "\n",
       "         Opiniones Peso del producto    Potencia Dimensiones del producto  \\\n",
       "0  37 valoraciones           2,16 Kg  600 vatios        14 x 15,5 x 64 cm   \n",
       "\n",
       "      Volumen  \n",
       "0  0.8 litros  "
      ]
     },
     "execution_count": 154,
     "metadata": {},
     "output_type": "execute_result"
    }
   ],
   "source": [
    "# Voy a obtener unicamente los valores que necesito\n",
    "\n",
    "resultadoAspiradoras = DatoAspiradora[['Nombre Aspiradora','Precio','Opiniones','Peso del producto','Potencia'\n",
    "                                       ,'Dimensiones del producto','Volumen']]\n",
    "\n",
    "resultadoAspiradoras"
   ]
  },
  {
   "cell_type": "markdown",
   "metadata": {},
   "source": [
    "##### 6. Obtener todos los datos de las 200 aspiradoras"
   ]
  }
 ],
 "metadata": {
  "kernelspec": {
   "display_name": "Python 3",
   "language": "python",
   "name": "python3"
  },
  "language_info": {
   "codemirror_mode": {
    "name": "ipython",
    "version": 3
   },
   "file_extension": ".py",
   "mimetype": "text/x-python",
   "name": "python",
   "nbconvert_exporter": "python",
   "pygments_lexer": "ipython3",
   "version": "3.7.3"
  }
 },
 "nbformat": 4,
 "nbformat_minor": 2
}

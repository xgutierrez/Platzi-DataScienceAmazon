{
 "cells": [
  {
   "cell_type": "markdown",
   "metadata": {},
   "source": [
    "# Análisis de Aspiradoras\n",
    "\n",
    "El Objetivo de esta Note es los siguientes:\n",
    "\n",
    "1. Obtener información de la página de Amazon sobre aspiradoras\n",
    "2. Guardar las información de las 200 primeras aspiradoras en un dataframe\n",
    "3. Pasar el DataFrame y aplicarle técnicas de aprendizaje No Supervisado para clasificar las aspiradoras"
   ]
  },
  {
   "cell_type": "markdown",
   "metadata": {},
   "source": [
    "## Obtener Información de Aspiradoras de Amazon\n",
    "\n",
    "### Web Scraping"
   ]
  },
  {
   "cell_type": "code",
   "execution_count": 125,
   "metadata": {},
   "outputs": [
    {
     "data": {
      "text/plain": [
       "503"
      ]
     },
     "execution_count": 125,
     "metadata": {},
     "output_type": "execute_result"
    }
   ],
   "source": [
    "#Líbrerias\n",
    "import requests\n",
    "\n",
    "#url = 'https://www.amazon.com/'\n",
    "url = 'https://www.amazon.es/s?k=aspiradoras&__mk_es_ES=%C3%85M%C3%85%C5%BD%C3%95%C3%91&ref=nb_sb_noss_2'\n",
    "\n",
    "\n",
    "aspiradoraWeb = requests.get(url)\n",
    "aspiradoraWeb.status_code"
   ]
  },
  {
   "cell_type": "markdown",
   "metadata": {},
   "source": [
    "* El primer método de Scraping iba hacer con BeautifulSoup, sin embargo, tengo un inconveniente debido a que el status code me da 503, eso significa que no esta accesible el servidor, y esto se debe a que hay páginas que no permiten realizar el WebScrapper por la líbreria requests\n",
    "\n",
    "* Para resolver este caso vamos a utilizar Selenium"
   ]
  },
  {
   "cell_type": "code",
   "execution_count": 126,
   "metadata": {},
   "outputs": [],
   "source": [
    "#Función que me permite obtener las URLs de las aspiradoras de una pagina\n",
    "\n",
    "def ObtenerLinkAspiradora():\n",
    "    pass"
   ]
  },
  {
   "cell_type": "code",
   "execution_count": 127,
   "metadata": {},
   "outputs": [],
   "source": [
    "#SELENIUM\n",
    "\n",
    "#Importamos Selenium\n",
    "from selenium import webdriver\n",
    "\n",
    "#Parametrizamos el driver\n",
    "options = webdriver.ChromeOptions()\n",
    "#Para navegar en modo incognito\n",
    "options.add_argument('--incognito')\n",
    "\n",
    "#Abrimos el driver\n",
    "driver = webdriver.Chrome(executable_path='c:/chromedriver.exe',options=options)\n",
    "\n",
    "#Nos vamos a la URL\n",
    "driver.get(url)"
   ]
  },
  {
   "cell_type": "code",
   "execution_count": 128,
   "metadata": {},
   "outputs": [
    {
     "data": {
      "text/plain": [
       "20"
      ]
     },
     "execution_count": 128,
     "metadata": {},
     "output_type": "execute_result"
    }
   ],
   "source": [
    "# Vamos a obtener los links y los nombres de las aspiradoras\n",
    "aspiradoras = driver.find_elements_by_xpath('//a[@class=\"a-link-normal a-text-normal\"]')\n",
    "\n",
    "aspiradoras\n",
    "#Número de aspiradoras \n",
    "len(aspiradoras)"
   ]
  },
  {
   "cell_type": "code",
   "execution_count": 129,
   "metadata": {
    "scrolled": true
   },
   "outputs": [
    {
     "data": {
      "text/plain": [
       "['https://www.amazon.es/gp/slredirect/picassoRedirect.html/ref=pa_sp_atf_aps_sr_pg1_1?ie=UTF8&adId=A01147902Q6W59R82Z299&url=%2FAmazonBasics-Aspiradora-cil%25C3%25ADndrica-bolsa-energ%25C3%25A9tica%2Fdp%2FB07C3NFCYC%2Fref%3Dsr_1_1_sspa%3F__mk_es_ES%3D%25C3%2585M%25C3%2585%25C5%25BD%25C3%2595%25C3%2591%26keywords%3Daspiradoras%26qid%3D1583447298%26sr%3D8-1-spons%26psc%3D1&qualifier=1583447297&id=5689450244253536&widgetName=sp_atf',\n",
       " 'https://www.amazon.es/gp/slredirect/picassoRedirect.html/ref=pa_sp_atf_aps_sr_pg1_2?ie=UTF8&adId=A067223035FI8SQQRCGZA&url=%2FCecotec-EcoExtreme-Aspirador-Cicl%25C3%25B3nico-Capacidad%2Fdp%2FB07587LM6H%2Fref%3Dsr_1_2_sspa%3F__mk_es_ES%3D%25C3%2585M%25C3%2585%25C5%25BD%25C3%2595%25C3%2591%26keywords%3Daspiradoras%26qid%3D1583447298%26sr%3D8-2-spons%26psc%3D1&qualifier=1583447297&id=5689450244253536&widgetName=sp_atf',\n",
       " 'https://www.amazon.es/Rowenta-Compact-Power-Cyclonic-Aspirador/dp/B01CIALC5G/ref=sr_1_3?__mk_es_ES=%C3%85M%C3%85%C5%BD%C3%95%C3%91&keywords=aspiradoras&qid=1583447298&sr=8-3',\n",
       " 'https://www.amazon.es/K%C3%A4rcher-WD3-Aspirador-multiuso-aspiraci%C3%B3n/dp/B00JBNZPFM/ref=sr_1_4?__mk_es_ES=%C3%85M%C3%85%C5%BD%C3%95%C3%91&keywords=aspiradoras&qid=1583447298&sr=8-4',\n",
       " 'https://www.amazon.es/Aspiradora-MEIYOU-Aspirador-Succi%C3%B3n-Lavable/dp/B07Z6DQYWC/ref=sr_1_5?__mk_es_ES=%C3%85M%C3%85%C5%BD%C3%95%C3%91&keywords=aspiradoras&qid=1583447298&sr=8-5',\n",
       " 'https://www.amazon.es/Holife-Aspiradora-Aspirador-eficiencia-energ%C3%A9tica/dp/B083BP3BR2/ref=sr_1_6?__mk_es_ES=%C3%85M%C3%85%C5%BD%C3%95%C3%91&keywords=aspiradoras&qid=1583447298&sr=8-6',\n",
       " 'https://www.amazon.es/Deenkee-Aspirador-Aspiradora-extra%C3%ADble-Ion-Litio/dp/B07YWYMQFR/ref=sr_1_7?__mk_es_ES=%C3%85M%C3%85%C5%BD%C3%95%C3%91&keywords=aspiradoras&qid=1583447298&sr=8-7',\n",
       " 'https://www.amazon.es/Cecotec-EcoExtreme-Aspirador-Cicl%C3%B3nico-Capacidad/dp/B07587LM6H/ref=sr_1_8?__mk_es_ES=%C3%85M%C3%85%C5%BD%C3%95%C3%91&keywords=aspiradoras&qid=1583447298&sr=8-8',\n",
       " 'https://www.amazon.es/Aspiradoras-Hikeren-Aspiradora-Vertical-Velocidades/dp/B07T58RMWK/ref=sr_1_9?__mk_es_ES=%C3%85M%C3%85%C5%BD%C3%95%C3%91&keywords=aspiradoras&qid=1583447298&sr=8-9',\n",
       " 'https://www.amazon.es/Bosch-Flexxo-BBH32551-Serie-recargable/dp/B07GQSS8RH/ref=sr_1_10?__mk_es_ES=%C3%85M%C3%85%C5%BD%C3%95%C3%91&keywords=aspiradoras&qid=1583447298&sr=8-10',\n",
       " 'https://www.amazon.es/gp/slredirect/picassoRedirect.html/ref=pa_sp_mtf_aps_sr_pg1_1?ie=UTF8&adId=A01055213TMFGYGVSWYS8&url=%2FINSE-Aspirador-Autonom%25C3%25ADa-Filtraci%25C3%25B3n-Motorizado%2Fdp%2FB07XYVYBB8%2Fref%3Dsr_1_11_sspa%3F__mk_es_ES%3D%25C3%2585M%25C3%2585%25C5%25BD%25C3%2595%25C3%2591%26keywords%3Daspiradoras%26qid%3D1583447298%26sr%3D8-11-spons%26psc%3D1&qualifier=1583447297&id=5689450244253536&widgetName=sp_mtf',\n",
       " 'https://www.amazon.es/gp/slredirect/picassoRedirect.html/ref=pa_sp_mtf_aps_sr_pg1_2?ie=UTF8&adId=A09063451R4FM9DMFO97I&url=%2FINSE-Aspiradora-Aspirador-Aspiradoras-Capacidad%2Fdp%2FB07XXWFW97%2Fref%3Dsr_1_12_sspa%3F__mk_es_ES%3D%25C3%2585M%25C3%2585%25C5%25BD%25C3%2595%25C3%2591%26keywords%3Daspiradoras%26qid%3D1583447298%26sr%3D8-12-spons%26psc%3D1&qualifier=1583447297&id=5689450244253536&widgetName=sp_mtf',\n",
       " 'https://www.amazon.es/INSE-Aspiradora-Aspirador-Aspiradoras-Capacidad/dp/B07XXWFW97/ref=sr_1_13?__mk_es_ES=%C3%85M%C3%85%C5%BD%C3%95%C3%91&keywords=aspiradoras&qid=1583447298&sr=8-13',\n",
       " 'https://www.amazon.es/AEG-LX7-Power-Animal-Aspiradora/dp/B0748MDVV8/ref=sr_1_14?__mk_es_ES=%C3%85M%C3%85%C5%BD%C3%95%C3%91&keywords=aspiradoras&qid=1583447298&sr=8-14',\n",
       " 'https://www.amazon.es/Aspiradora-HIKEREN-Aspirador-Inoxidable-Boquillas/dp/B07VVPFPX5/ref=sr_1_15?__mk_es_ES=%C3%85M%C3%85%C5%BD%C3%95%C3%91&keywords=aspiradoras&qid=1583447298&sr=8-15',\n",
       " 'https://www.amazon.es/Einhell-TH-VC-1820-seco-h%C3%BAmedo-aspiraci%C3%B3n/dp/B00BLZVJ0I/ref=sr_1_16?__mk_es_ES=%C3%85M%C3%85%C5%BD%C3%95%C3%91&keywords=aspiradoras&qid=1583447298&sr=8-16',\n",
       " 'https://www.amazon.es/YISSVIC-Aspiradora-Aspirador-Inal%C3%A1mbrica-Recargable/dp/B082WRZXSX/ref=sr_1_17?__mk_es_ES=%C3%85M%C3%85%C5%BD%C3%95%C3%91&keywords=aspiradoras&qid=1583447298&sr=8-17',\n",
       " 'https://www.amazon.es/Bosch-BBH625W60-Athlet-tecnolog%C3%ADa-SensorBagless/dp/B015PL3S8Y/ref=sr_1_18?__mk_es_ES=%C3%85M%C3%85%C5%BD%C3%95%C3%91&keywords=aspiradoras&qid=1583447298&sr=8-18',\n",
       " 'https://www.amazon.es/Einhell-TC-VC-1812-seco-h%C3%BAmedo-aspiraci%C3%B3n/dp/B014HFNONS/ref=sr_1_19?__mk_es_ES=%C3%85M%C3%85%C5%BD%C3%95%C3%91&keywords=aspiradoras&qid=1583447298&sr=8-19',\n",
       " 'https://www.amazon.es/Philips-Fc9332-09-Aspirador-antial%C3%A9rgicas/dp/B01MTF06KN/ref=sr_1_20?__mk_es_ES=%C3%85M%C3%85%C5%BD%C3%95%C3%91&keywords=aspiradoras&qid=1583447298&sr=8-20']"
      ]
     },
     "execution_count": 129,
     "metadata": {},
     "output_type": "execute_result"
    }
   ],
   "source": [
    "#vamos a obtener los links de cada aspiradora\n",
    "linksAspiradoras = []\n",
    "aspiradora = aspiradoras[5]\n",
    "\n",
    "linkAspiradora = aspiradora.get_attribute('href')\n",
    "linkAspiradora\n",
    "\n",
    "#Obtengo los links de las aspiradoras\n",
    "for aspiradora in aspiradoras:\n",
    "    linksAspiradoras.append(aspiradora.get_attribute('href'))\n",
    "    \n",
    "linksAspiradoras"
   ]
  },
  {
   "cell_type": "code",
   "execution_count": 130,
   "metadata": {},
   "outputs": [],
   "source": [
    "driver.close()"
   ]
  },
  {
   "cell_type": "code",
   "execution_count": 131,
   "metadata": {},
   "outputs": [],
   "source": [
    "# Vamos a obtener los datos de cada aspiradora\n",
    "driver = webdriver.Chrome(executable_path='c:/chromedriver.exe',options=options)\n",
    "driver.get(linksAspiradoras[0])"
   ]
  },
  {
   "cell_type": "code",
   "execution_count": 132,
   "metadata": {},
   "outputs": [
    {
     "name": "stdout",
     "output_type": "stream",
     "text": [
      "AmazonBasics - Aspiradora cilíndrica sin bolsa, 1,5L, 700 W [clase energética A]\n",
      "3.874 valoraciones\n",
      "49,99 €\n"
     ]
    }
   ],
   "source": [
    "nombreAspiradora = driver.find_element_by_xpath('//*[@id=\"productTitle\"]').text\n",
    "numeroOpinion = driver.find_element_by_xpath('//*[@id=\"acrCustomerReviewText\"]').text\n",
    "precio = driver.find_element_by_xpath('//*[@id=\"priceblock_ourprice\"]').text\n",
    "\n",
    "print(nombreAspiradora)\n",
    "print(numeroOpinion)\n",
    "print(precio)"
   ]
  },
  {
   "cell_type": "code",
   "execution_count": 133,
   "metadata": {},
   "outputs": [
    {
     "data": {
      "text/plain": [
       "[<selenium.webdriver.remote.webelement.WebElement (session=\"dd155e6c41ced08f60bcc2d18768ae17\", element=\"5d8f2017-fbf2-4cb0-b652-7202e886c019\")>,\n",
       " <selenium.webdriver.remote.webelement.WebElement (session=\"dd155e6c41ced08f60bcc2d18768ae17\", element=\"80ff6d87-6324-4aba-8428-4250e14bdbf8\")>,\n",
       " <selenium.webdriver.remote.webelement.WebElement (session=\"dd155e6c41ced08f60bcc2d18768ae17\", element=\"8fb7c2dc-f277-46c5-8f4d-6b34c50881cf\")>,\n",
       " <selenium.webdriver.remote.webelement.WebElement (session=\"dd155e6c41ced08f60bcc2d18768ae17\", element=\"6926495b-98d9-40e8-8e59-a4926a960897\")>,\n",
       " <selenium.webdriver.remote.webelement.WebElement (session=\"dd155e6c41ced08f60bcc2d18768ae17\", element=\"588d0cef-feb3-422d-b666-0d3bbf5bc6e6\")>,\n",
       " <selenium.webdriver.remote.webelement.WebElement (session=\"dd155e6c41ced08f60bcc2d18768ae17\", element=\"d4ceab31-792a-4a78-b107-def3a4d850e5\")>,\n",
       " <selenium.webdriver.remote.webelement.WebElement (session=\"dd155e6c41ced08f60bcc2d18768ae17\", element=\"dd95eab2-f456-4ace-b6bc-e3bdfafef98c\")>,\n",
       " <selenium.webdriver.remote.webelement.WebElement (session=\"dd155e6c41ced08f60bcc2d18768ae17\", element=\"b9e67aca-3fd9-452a-abc4-8ba8264fca3d\")>,\n",
       " <selenium.webdriver.remote.webelement.WebElement (session=\"dd155e6c41ced08f60bcc2d18768ae17\", element=\"034fceba-7ded-4f7b-b363-5d85ccb080d3\")>,\n",
       " <selenium.webdriver.remote.webelement.WebElement (session=\"dd155e6c41ced08f60bcc2d18768ae17\", element=\"88fea675-3e6d-49e1-b348-3de326addeb7\")>,\n",
       " <selenium.webdriver.remote.webelement.WebElement (session=\"dd155e6c41ced08f60bcc2d18768ae17\", element=\"4ed13a59-f00b-415a-a05c-7b5c21566e82\")>,\n",
       " <selenium.webdriver.remote.webelement.WebElement (session=\"dd155e6c41ced08f60bcc2d18768ae17\", element=\"02b66ec0-600b-4513-aad7-2d48d84eb5f4\")>,\n",
       " <selenium.webdriver.remote.webelement.WebElement (session=\"dd155e6c41ced08f60bcc2d18768ae17\", element=\"e9f57d3d-6eaa-4982-a710-faa4988829e4\")>]"
      ]
     },
     "execution_count": 133,
     "metadata": {},
     "output_type": "execute_result"
    }
   ],
   "source": [
    "#Obteniendo la tabla de caracteristicas técnicas\n",
    "\n",
    "detallesTecnicos = driver.find_elements_by_xpath('//*[@id=\"prodDetails\"]/div[2]/div[1]/div[1]/div[2]/div/div/table/tbody/tr')\n",
    "detallesTecnicos\n"
   ]
  },
  {
   "cell_type": "code",
   "execution_count": 134,
   "metadata": {},
   "outputs": [
    {
     "data": {
      "text/plain": [
       "{'Marca': ['AmazonBasics'],\n",
       " 'Número de modelo': ['15KC-71EU4'],\n",
       " 'Peso del producto': ['4,5 Kg'],\n",
       " 'Dimensiones del producto': ['36,3 x 29,4 x 24,7 cm'],\n",
       " 'Capacidad': ['1.5 litros'],\n",
       " 'Volumen': ['1.5 litros'],\n",
       " 'Potencia': ['700 vatios'],\n",
       " 'Radio de acción': ['6 metros'],\n",
       " 'Eficiencia energética': ['A'],\n",
       " 'Consumo anual': ['23.4 kilowatt_hours_per_year'],\n",
       " 'Nivel de limpieza en alfombra': ['E'],\n",
       " 'Ruido': ['78 dB']}"
      ]
     },
     "execution_count": 134,
     "metadata": {},
     "output_type": "execute_result"
    }
   ],
   "source": [
    "detallesTecnicos[0].find_element_by_xpath('.//td[@class=\"label\"]').text\n",
    "detallesTecnicos[0].find_element_by_xpath('.//td[@class=\"value\"]').text\n",
    "\n",
    "tablaDetalleTecnico = {}\n",
    "\n",
    "for detalle in detallesTecnicos:\n",
    "    try:\n",
    "        etiqueta = detalle.find_element_by_xpath('.//td[@class=\"label\"]').text\n",
    "        valor = detalle.find_element_by_xpath('.//td[@class=\"value\"]').text\n",
    "    \n",
    "        # El valor le paso como una lista para que sea mas fácil la conversion a Dataframe\n",
    "        tablaDetalleTecnico.update({etiqueta:[valor]})\n",
    "    except:\n",
    "        etiqueta = ''\n",
    "        valor = ''\n",
    "    \n",
    "        #tablaDetalleTecnico.append({'':''})\n",
    "    \n",
    "tablaDetalleTecnico"
   ]
  },
  {
   "cell_type": "code",
   "execution_count": 135,
   "metadata": {},
   "outputs": [
    {
     "data": {
      "text/html": [
       "<div>\n",
       "<style scoped>\n",
       "    .dataframe tbody tr th:only-of-type {\n",
       "        vertical-align: middle;\n",
       "    }\n",
       "\n",
       "    .dataframe tbody tr th {\n",
       "        vertical-align: top;\n",
       "    }\n",
       "\n",
       "    .dataframe thead th {\n",
       "        text-align: right;\n",
       "    }\n",
       "</style>\n",
       "<table border=\"1\" class=\"dataframe\">\n",
       "  <thead>\n",
       "    <tr style=\"text-align: right;\">\n",
       "      <th></th>\n",
       "      <th>Marca</th>\n",
       "      <th>Número de modelo</th>\n",
       "      <th>Peso del producto</th>\n",
       "      <th>Dimensiones del producto</th>\n",
       "      <th>Capacidad</th>\n",
       "      <th>Volumen</th>\n",
       "      <th>Potencia</th>\n",
       "      <th>Radio de acción</th>\n",
       "      <th>Eficiencia energética</th>\n",
       "      <th>Consumo anual</th>\n",
       "      <th>Nivel de limpieza en alfombra</th>\n",
       "      <th>Ruido</th>\n",
       "    </tr>\n",
       "  </thead>\n",
       "  <tbody>\n",
       "    <tr>\n",
       "      <th>0</th>\n",
       "      <td>AmazonBasics</td>\n",
       "      <td>15KC-71EU4</td>\n",
       "      <td>4,5 Kg</td>\n",
       "      <td>36,3 x 29,4 x 24,7 cm</td>\n",
       "      <td>1.5 litros</td>\n",
       "      <td>1.5 litros</td>\n",
       "      <td>700 vatios</td>\n",
       "      <td>6 metros</td>\n",
       "      <td>A</td>\n",
       "      <td>23.4 kilowatt_hours_per_year</td>\n",
       "      <td>E</td>\n",
       "      <td>78 dB</td>\n",
       "    </tr>\n",
       "  </tbody>\n",
       "</table>\n",
       "</div>"
      ],
      "text/plain": [
       "          Marca Número de modelo Peso del producto Dimensiones del producto  \\\n",
       "0  AmazonBasics       15KC-71EU4            4,5 Kg    36,3 x 29,4 x 24,7 cm   \n",
       "\n",
       "    Capacidad     Volumen    Potencia Radio de acción Eficiencia energética  \\\n",
       "0  1.5 litros  1.5 litros  700 vatios        6 metros                     A   \n",
       "\n",
       "                  Consumo anual Nivel de limpieza en alfombra  Ruido  \n",
       "0  23.4 kilowatt_hours_per_year                             E  78 dB  "
      ]
     },
     "execution_count": 135,
     "metadata": {},
     "output_type": "execute_result"
    }
   ],
   "source": [
    "#Mandando a un dataframe los detalles tecnicos\n",
    "\n",
    "import pandas as pd\n",
    "\n",
    "tablaDetalleTecnico\n",
    "\n",
    "DatoAspiradora = pd.DataFrame(tablaDetalleTecnico)\n",
    "DatoAspiradora"
   ]
  },
  {
   "cell_type": "code",
   "execution_count": 136,
   "metadata": {},
   "outputs": [
    {
     "name": "stdout",
     "output_type": "stream",
     "text": [
      "AmazonBasics - Aspiradora cilíndrica sin bolsa, 1,5L, 700 W [clase energética A]\n",
      "3.874 valoraciones\n",
      "49,99 €\n"
     ]
    }
   ],
   "source": [
    "print(nombreAspiradora)\n",
    "print(numeroOpinion)\n",
    "print(precio)"
   ]
  },
  {
   "cell_type": "code",
   "execution_count": 137,
   "metadata": {},
   "outputs": [
    {
     "data": {
      "text/html": [
       "<div>\n",
       "<style scoped>\n",
       "    .dataframe tbody tr th:only-of-type {\n",
       "        vertical-align: middle;\n",
       "    }\n",
       "\n",
       "    .dataframe tbody tr th {\n",
       "        vertical-align: top;\n",
       "    }\n",
       "\n",
       "    .dataframe thead th {\n",
       "        text-align: right;\n",
       "    }\n",
       "</style>\n",
       "<table border=\"1\" class=\"dataframe\">\n",
       "  <thead>\n",
       "    <tr style=\"text-align: right;\">\n",
       "      <th></th>\n",
       "      <th>Marca</th>\n",
       "      <th>Número de modelo</th>\n",
       "      <th>Peso del producto</th>\n",
       "      <th>Dimensiones del producto</th>\n",
       "      <th>Capacidad</th>\n",
       "      <th>Volumen</th>\n",
       "      <th>Potencia</th>\n",
       "      <th>Radio de acción</th>\n",
       "      <th>Eficiencia energética</th>\n",
       "      <th>Consumo anual</th>\n",
       "      <th>Nivel de limpieza en alfombra</th>\n",
       "      <th>Ruido</th>\n",
       "      <th>Nombre Aspiradora</th>\n",
       "      <th>Opiniones</th>\n",
       "      <th>Precio</th>\n",
       "    </tr>\n",
       "  </thead>\n",
       "  <tbody>\n",
       "    <tr>\n",
       "      <th>0</th>\n",
       "      <td>AmazonBasics</td>\n",
       "      <td>15KC-71EU4</td>\n",
       "      <td>4,5 Kg</td>\n",
       "      <td>36,3 x 29,4 x 24,7 cm</td>\n",
       "      <td>1.5 litros</td>\n",
       "      <td>1.5 litros</td>\n",
       "      <td>700 vatios</td>\n",
       "      <td>6 metros</td>\n",
       "      <td>A</td>\n",
       "      <td>23.4 kilowatt_hours_per_year</td>\n",
       "      <td>E</td>\n",
       "      <td>78 dB</td>\n",
       "      <td>AmazonBasics - Aspiradora cilíndrica sin bolsa...</td>\n",
       "      <td>3.874 valoraciones</td>\n",
       "      <td>49,99 €</td>\n",
       "    </tr>\n",
       "  </tbody>\n",
       "</table>\n",
       "</div>"
      ],
      "text/plain": [
       "          Marca Número de modelo Peso del producto Dimensiones del producto  \\\n",
       "0  AmazonBasics       15KC-71EU4            4,5 Kg    36,3 x 29,4 x 24,7 cm   \n",
       "\n",
       "    Capacidad     Volumen    Potencia Radio de acción Eficiencia energética  \\\n",
       "0  1.5 litros  1.5 litros  700 vatios        6 metros                     A   \n",
       "\n",
       "                  Consumo anual Nivel de limpieza en alfombra  Ruido  \\\n",
       "0  23.4 kilowatt_hours_per_year                             E  78 dB   \n",
       "\n",
       "                                   Nombre Aspiradora           Opiniones  \\\n",
       "0  AmazonBasics - Aspiradora cilíndrica sin bolsa...  3.874 valoraciones   \n",
       "\n",
       "    Precio  \n",
       "0  49,99 €  "
      ]
     },
     "execution_count": 137,
     "metadata": {},
     "output_type": "execute_result"
    }
   ],
   "source": [
    "# Vamos añadir las columnas de:\n",
    "# Nombre de la aspiradora; las valoraciones; y el precio en el DataFrame\n",
    "\n",
    "DatoAspiradora['Nombre Aspiradora'] = nombreAspiradora\n",
    "DatoAspiradora['Opiniones'] = numeroOpinion\n",
    "DatoAspiradora['Precio'] = precio\n",
    "\n",
    "DatoAspiradora"
   ]
  },
  {
   "cell_type": "code",
   "execution_count": 138,
   "metadata": {},
   "outputs": [
    {
     "data": {
      "text/plain": [
       "Index(['Marca', 'Número de modelo', 'Peso del producto',\n",
       "       'Dimensiones del producto', 'Capacidad', 'Volumen', 'Potencia',\n",
       "       'Radio de acción', 'Eficiencia energética', 'Consumo anual',\n",
       "       'Nivel de limpieza en alfombra', 'Ruido', 'Nombre Aspiradora',\n",
       "       'Opiniones', 'Precio'],\n",
       "      dtype='object')"
      ]
     },
     "execution_count": 138,
     "metadata": {},
     "output_type": "execute_result"
    }
   ],
   "source": [
    "DatoAspiradora.columns"
   ]
  },
  {
   "cell_type": "code",
   "execution_count": 139,
   "metadata": {},
   "outputs": [
    {
     "data": {
      "text/html": [
       "<div>\n",
       "<style scoped>\n",
       "    .dataframe tbody tr th:only-of-type {\n",
       "        vertical-align: middle;\n",
       "    }\n",
       "\n",
       "    .dataframe tbody tr th {\n",
       "        vertical-align: top;\n",
       "    }\n",
       "\n",
       "    .dataframe thead th {\n",
       "        text-align: right;\n",
       "    }\n",
       "</style>\n",
       "<table border=\"1\" class=\"dataframe\">\n",
       "  <thead>\n",
       "    <tr style=\"text-align: right;\">\n",
       "      <th></th>\n",
       "      <th>Nombre Aspiradora</th>\n",
       "      <th>Precio</th>\n",
       "      <th>Opiniones</th>\n",
       "      <th>Peso del producto</th>\n",
       "      <th>Potencia</th>\n",
       "      <th>Dimensiones del producto</th>\n",
       "      <th>Volumen</th>\n",
       "    </tr>\n",
       "  </thead>\n",
       "  <tbody>\n",
       "    <tr>\n",
       "      <th>0</th>\n",
       "      <td>AmazonBasics - Aspiradora cilíndrica sin bolsa...</td>\n",
       "      <td>49,99 €</td>\n",
       "      <td>3.874 valoraciones</td>\n",
       "      <td>4,5 Kg</td>\n",
       "      <td>700 vatios</td>\n",
       "      <td>36,3 x 29,4 x 24,7 cm</td>\n",
       "      <td>1.5 litros</td>\n",
       "    </tr>\n",
       "  </tbody>\n",
       "</table>\n",
       "</div>"
      ],
      "text/plain": [
       "                                   Nombre Aspiradora   Precio  \\\n",
       "0  AmazonBasics - Aspiradora cilíndrica sin bolsa...  49,99 €   \n",
       "\n",
       "            Opiniones Peso del producto    Potencia Dimensiones del producto  \\\n",
       "0  3.874 valoraciones            4,5 Kg  700 vatios    36,3 x 29,4 x 24,7 cm   \n",
       "\n",
       "      Volumen  \n",
       "0  1.5 litros  "
      ]
     },
     "execution_count": 139,
     "metadata": {},
     "output_type": "execute_result"
    }
   ],
   "source": [
    "# Voy a obtener unicamente los valores que necesito\n",
    "\n",
    "resultadoAspiradoras = DatoAspiradora[['Nombre Aspiradora','Precio','Opiniones','Peso del producto','Potencia'\n",
    "                                       ,'Dimensiones del producto','Volumen']]\n",
    "\n",
    "resultadoAspiradoras"
   ]
  }
 ],
 "metadata": {
  "kernelspec": {
   "display_name": "Python 3",
   "language": "python",
   "name": "python3"
  },
  "language_info": {
   "codemirror_mode": {
    "name": "ipython",
    "version": 3
   },
   "file_extension": ".py",
   "mimetype": "text/x-python",
   "name": "python",
   "nbconvert_exporter": "python",
   "pygments_lexer": "ipython3",
   "version": "3.7.3"
  }
 },
 "nbformat": 4,
 "nbformat_minor": 2
}
